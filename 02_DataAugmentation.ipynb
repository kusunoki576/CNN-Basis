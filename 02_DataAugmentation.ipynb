{
 "nbformat": 4,
 "nbformat_minor": 0,
 "metadata": {
  "colab": {
   "provenance": [],
   "authorship_tag": "ABX9TyOr3HDLJkHfI6WB7tEGlVy/"
  },
  "kernelspec": {
   "name": "python3",
   "display_name": "Python 3"
  },
  "language_info": {
   "name": "python"
  },
  "accelerator": "GPU",
  "gpuClass": "premium",
  "widgets": {
   "application/vnd.jupyter.widget-state+json": {
    "5f82b22c47214ef5b0ca5762ae3c2d14": {
     "model_module": "@jupyter-widgets/controls",
     "model_name": "HBoxModel",
     "model_module_version": "1.5.0",
     "state": {
      "_dom_classes": [],
      "_model_module": "@jupyter-widgets/controls",
      "_model_module_version": "1.5.0",
      "_model_name": "HBoxModel",
      "_view_count": null,
      "_view_module": "@jupyter-widgets/controls",
      "_view_module_version": "1.5.0",
      "_view_name": "HBoxView",
      "box_style": "",
      "children": [
       "IPY_MODEL_4e4eaa47765b48f59276651f3f9bfb5f",
       "IPY_MODEL_f79ffbfe198a43d6987821b1b1d7e5a5",
       "IPY_MODEL_fd91935c514c4ce9aef4ff45549470b8"
      ],
      "layout": "IPY_MODEL_829beaccf1b94d19b07aec50bfcd141e"
     }
    },
    "4e4eaa47765b48f59276651f3f9bfb5f": {
     "model_module": "@jupyter-widgets/controls",
     "model_name": "HTMLModel",
     "model_module_version": "1.5.0",
     "state": {
      "_dom_classes": [],
      "_model_module": "@jupyter-widgets/controls",
      "_model_module_version": "1.5.0",
      "_model_name": "HTMLModel",
      "_view_count": null,
      "_view_module": "@jupyter-widgets/controls",
      "_view_module_version": "1.5.0",
      "_view_name": "HTMLView",
      "description": "",
      "description_tooltip": null,
      "layout": "IPY_MODEL_a2f4dca5e7a44a849cf1a45c94969f37",
      "placeholder": "​",
      "style": "IPY_MODEL_4f41b3bb38724cb48056c9dbe1503860",
      "value": "100%"
     }
    },
    "f79ffbfe198a43d6987821b1b1d7e5a5": {
     "model_module": "@jupyter-widgets/controls",
     "model_name": "FloatProgressModel",
     "model_module_version": "1.5.0",
     "state": {
      "_dom_classes": [],
      "_model_module": "@jupyter-widgets/controls",
      "_model_module_version": "1.5.0",
      "_model_name": "FloatProgressModel",
      "_view_count": null,
      "_view_module": "@jupyter-widgets/controls",
      "_view_module_version": "1.5.0",
      "_view_name": "ProgressView",
      "bar_style": "success",
      "description": "",
      "description_tooltip": null,
      "layout": "IPY_MODEL_d63677a836304b6590f8a8056a0f9777",
      "max": 170498071,
      "min": 0,
      "orientation": "horizontal",
      "style": "IPY_MODEL_7242640370c747ba9652974eb4c8daee",
      "value": 170498071
     }
    },
    "fd91935c514c4ce9aef4ff45549470b8": {
     "model_module": "@jupyter-widgets/controls",
     "model_name": "HTMLModel",
     "model_module_version": "1.5.0",
     "state": {
      "_dom_classes": [],
      "_model_module": "@jupyter-widgets/controls",
      "_model_module_version": "1.5.0",
      "_model_name": "HTMLModel",
      "_view_count": null,
      "_view_module": "@jupyter-widgets/controls",
      "_view_module_version": "1.5.0",
      "_view_name": "HTMLView",
      "description": "",
      "description_tooltip": null,
      "layout": "IPY_MODEL_1d5464c699dd4ce1939648c23eee9d20",
      "placeholder": "​",
      "style": "IPY_MODEL_9011e0500b5d4f25aa724f27ba07ea35",
      "value": " 170498071/170498071 [00:05&lt;00:00, 33695236.52it/s]"
     }
    },
    "829beaccf1b94d19b07aec50bfcd141e": {
     "model_module": "@jupyter-widgets/base",
     "model_name": "LayoutModel",
     "model_module_version": "1.2.0",
     "state": {
      "_model_module": "@jupyter-widgets/base",
      "_model_module_version": "1.2.0",
      "_model_name": "LayoutModel",
      "_view_count": null,
      "_view_module": "@jupyter-widgets/base",
      "_view_module_version": "1.2.0",
      "_view_name": "LayoutView",
      "align_content": null,
      "align_items": null,
      "align_self": null,
      "border": null,
      "bottom": null,
      "display": null,
      "flex": null,
      "flex_flow": null,
      "grid_area": null,
      "grid_auto_columns": null,
      "grid_auto_flow": null,
      "grid_auto_rows": null,
      "grid_column": null,
      "grid_gap": null,
      "grid_row": null,
      "grid_template_areas": null,
      "grid_template_columns": null,
      "grid_template_rows": null,
      "height": null,
      "justify_content": null,
      "justify_items": null,
      "left": null,
      "margin": null,
      "max_height": null,
      "max_width": null,
      "min_height": null,
      "min_width": null,
      "object_fit": null,
      "object_position": null,
      "order": null,
      "overflow": null,
      "overflow_x": null,
      "overflow_y": null,
      "padding": null,
      "right": null,
      "top": null,
      "visibility": null,
      "width": null
     }
    },
    "a2f4dca5e7a44a849cf1a45c94969f37": {
     "model_module": "@jupyter-widgets/base",
     "model_name": "LayoutModel",
     "model_module_version": "1.2.0",
     "state": {
      "_model_module": "@jupyter-widgets/base",
      "_model_module_version": "1.2.0",
      "_model_name": "LayoutModel",
      "_view_count": null,
      "_view_module": "@jupyter-widgets/base",
      "_view_module_version": "1.2.0",
      "_view_name": "LayoutView",
      "align_content": null,
      "align_items": null,
      "align_self": null,
      "border": null,
      "bottom": null,
      "display": null,
      "flex": null,
      "flex_flow": null,
      "grid_area": null,
      "grid_auto_columns": null,
      "grid_auto_flow": null,
      "grid_auto_rows": null,
      "grid_column": null,
      "grid_gap": null,
      "grid_row": null,
      "grid_template_areas": null,
      "grid_template_columns": null,
      "grid_template_rows": null,
      "height": null,
      "justify_content": null,
      "justify_items": null,
      "left": null,
      "margin": null,
      "max_height": null,
      "max_width": null,
      "min_height": null,
      "min_width": null,
      "object_fit": null,
      "object_position": null,
      "order": null,
      "overflow": null,
      "overflow_x": null,
      "overflow_y": null,
      "padding": null,
      "right": null,
      "top": null,
      "visibility": null,
      "width": null
     }
    },
    "4f41b3bb38724cb48056c9dbe1503860": {
     "model_module": "@jupyter-widgets/controls",
     "model_name": "DescriptionStyleModel",
     "model_module_version": "1.5.0",
     "state": {
      "_model_module": "@jupyter-widgets/controls",
      "_model_module_version": "1.5.0",
      "_model_name": "DescriptionStyleModel",
      "_view_count": null,
      "_view_module": "@jupyter-widgets/base",
      "_view_module_version": "1.2.0",
      "_view_name": "StyleView",
      "description_width": ""
     }
    },
    "d63677a836304b6590f8a8056a0f9777": {
     "model_module": "@jupyter-widgets/base",
     "model_name": "LayoutModel",
     "model_module_version": "1.2.0",
     "state": {
      "_model_module": "@jupyter-widgets/base",
      "_model_module_version": "1.2.0",
      "_model_name": "LayoutModel",
      "_view_count": null,
      "_view_module": "@jupyter-widgets/base",
      "_view_module_version": "1.2.0",
      "_view_name": "LayoutView",
      "align_content": null,
      "align_items": null,
      "align_self": null,
      "border": null,
      "bottom": null,
      "display": null,
      "flex": null,
      "flex_flow": null,
      "grid_area": null,
      "grid_auto_columns": null,
      "grid_auto_flow": null,
      "grid_auto_rows": null,
      "grid_column": null,
      "grid_gap": null,
      "grid_row": null,
      "grid_template_areas": null,
      "grid_template_columns": null,
      "grid_template_rows": null,
      "height": null,
      "justify_content": null,
      "justify_items": null,
      "left": null,
      "margin": null,
      "max_height": null,
      "max_width": null,
      "min_height": null,
      "min_width": null,
      "object_fit": null,
      "object_position": null,
      "order": null,
      "overflow": null,
      "overflow_x": null,
      "overflow_y": null,
      "padding": null,
      "right": null,
      "top": null,
      "visibility": null,
      "width": null
     }
    },
    "7242640370c747ba9652974eb4c8daee": {
     "model_module": "@jupyter-widgets/controls",
     "model_name": "ProgressStyleModel",
     "model_module_version": "1.5.0",
     "state": {
      "_model_module": "@jupyter-widgets/controls",
      "_model_module_version": "1.5.0",
      "_model_name": "ProgressStyleModel",
      "_view_count": null,
      "_view_module": "@jupyter-widgets/base",
      "_view_module_version": "1.2.0",
      "_view_name": "StyleView",
      "bar_color": null,
      "description_width": ""
     }
    },
    "1d5464c699dd4ce1939648c23eee9d20": {
     "model_module": "@jupyter-widgets/base",
     "model_name": "LayoutModel",
     "model_module_version": "1.2.0",
     "state": {
      "_model_module": "@jupyter-widgets/base",
      "_model_module_version": "1.2.0",
      "_model_name": "LayoutModel",
      "_view_count": null,
      "_view_module": "@jupyter-widgets/base",
      "_view_module_version": "1.2.0",
      "_view_name": "LayoutView",
      "align_content": null,
      "align_items": null,
      "align_self": null,
      "border": null,
      "bottom": null,
      "display": null,
      "flex": null,
      "flex_flow": null,
      "grid_area": null,
      "grid_auto_columns": null,
      "grid_auto_flow": null,
      "grid_auto_rows": null,
      "grid_column": null,
      "grid_gap": null,
      "grid_row": null,
      "grid_template_areas": null,
      "grid_template_columns": null,
      "grid_template_rows": null,
      "height": null,
      "justify_content": null,
      "justify_items": null,
      "left": null,
      "margin": null,
      "max_height": null,
      "max_width": null,
      "min_height": null,
      "min_width": null,
      "object_fit": null,
      "object_position": null,
      "order": null,
      "overflow": null,
      "overflow_x": null,
      "overflow_y": null,
      "padding": null,
      "right": null,
      "top": null,
      "visibility": null,
      "width": null
     }
    },
    "9011e0500b5d4f25aa724f27ba07ea35": {
     "model_module": "@jupyter-widgets/controls",
     "model_name": "DescriptionStyleModel",
     "model_module_version": "1.5.0",
     "state": {
      "_model_module": "@jupyter-widgets/controls",
      "_model_module_version": "1.5.0",
      "_model_name": "DescriptionStyleModel",
      "_view_count": null,
      "_view_module": "@jupyter-widgets/base",
      "_view_module_version": "1.2.0",
      "_view_name": "StyleView",
      "description_width": ""
     }
    }
   }
  }
 },
 "cells": [
  {
   "cell_type": "code",
   "execution_count": 1,
   "metadata": {
    "colab": {
     "base_uri": "https://localhost:8080/",
     "height": 35
    },
    "id": "-qCWzcYqe7uQ",
    "executionInfo": {
     "status": "ok",
     "timestamp": 1675400110065,
     "user_tz": -540,
     "elapsed": 3929,
     "user": {
      "displayName": "くすのき.",
      "userId": "13254965509386173093"
     }
    },
    "outputId": "47c5ffd0-86c0-4b0e-a6e5-913b2e45e357"
   },
   "outputs": [
    {
     "data": {
      "text/plain": "'cuda'"
     },
     "execution_count": 1,
     "metadata": {},
     "output_type": "execute_result"
    }
   ],
   "source": [
    "import torch\n",
    "import torch.nn as nn\n",
    "import torch.optim as optim\n",
    "from torchvision import datasets, transforms\n",
    "from torch.utils.data import DataLoader\n",
    "\n",
    "import numpy as np\n",
    "import matplotlib.pyplot as plt\n",
    "%matplotlib inline\n",
    "\n",
    "device = \"cuda\" if torch.cuda.is_available() else \"cpu\"\n",
    "device"
   ]
  },
  {
   "cell_type": "code",
   "source": [
    "##### 学習データ/テストデータ作成\n",
    "train_transform = transforms.Compose([\n",
    "    transforms.RandomHorizontalFlip(), # Data Augmentation\n",
    "    transforms.ColorJitter(),\n",
    "    transforms.RandomRotation(10),\n",
    "    transforms.ToTensor(),\n",
    "    transforms.Normalize((0.5,), (0.5,))\n",
    "])\n",
    "test_transform = transforms.Compose([\n",
    "    transforms.ToTensor(),\n",
    "    transforms.Normalize((0.5,), (0.5,))\n",
    "])\n",
    "\n",
    "train_dataset = datasets.CIFAR10(root=\"./data\", train=True, download=True, transform=train_transform)\n",
    "test_dataset = datasets.CIFAR10(root=\"./data\", train=False, download=True, transform=test_transform)\n",
    "\n",
    "train_dataloader = DataLoader(train_dataset, batch_size=32, shuffle=True)\n",
    "test_dataloader = DataLoader(test_dataset, batch_size=32, shuffle=False)\n",
    "\n",
    "classes = ('plane', 'car', 'bird', 'cat', 'deer', 'dog', 'frog', 'horse', 'ship', 'truck') # 正解ラベル"
   ],
   "metadata": {
    "colab": {
     "base_uri": "https://localhost:8080/",
     "height": 101,
     "referenced_widgets": [
      "5f82b22c47214ef5b0ca5762ae3c2d14",
      "4e4eaa47765b48f59276651f3f9bfb5f",
      "f79ffbfe198a43d6987821b1b1d7e5a5",
      "fd91935c514c4ce9aef4ff45549470b8",
      "829beaccf1b94d19b07aec50bfcd141e",
      "a2f4dca5e7a44a849cf1a45c94969f37",
      "4f41b3bb38724cb48056c9dbe1503860",
      "d63677a836304b6590f8a8056a0f9777",
      "7242640370c747ba9652974eb4c8daee",
      "1d5464c699dd4ce1939648c23eee9d20",
      "9011e0500b5d4f25aa724f27ba07ea35"
     ]
    },
    "id": "BiBmTNIve_c8",
    "executionInfo": {
     "status": "ok",
     "timestamp": 1675400119869,
     "user_tz": -540,
     "elapsed": 9807,
     "user": {
      "displayName": "くすのき.",
      "userId": "13254965509386173093"
     }
    },
    "outputId": "cefaae76-cdd3-4c01-8784-20f55c2e4ee4"
   },
   "execution_count": 2,
   "outputs": [
    {
     "name": "stdout",
     "output_type": "stream",
     "text": [
      "Files already downloaded and verified\n",
      "Files already downloaded and verified\n"
     ]
    }
   ]
  },
  {
   "cell_type": "code",
   "source": [
    "##### モデル定義\n",
    "class CNN(nn.Module):\n",
    "  def __init__(self, num_classes):\n",
    "    super().__init__()\n",
    "    # torch.Size([32, 3, 32, 32])\n",
    "    self.features = nn.Sequential(\n",
    "        nn.Conv2d(in_channels=3, out_channels=64, kernel_size=3, padding=1),\n",
    "        nn.ReLU(inplace=True),\n",
    "        nn.Conv2d(in_channels=64, out_channels=64, kernel_size=3, padding=1),\n",
    "        nn.ReLU(inplace=True),\n",
    "        nn.MaxPool2d(kernel_size=2),\n",
    "\n",
    "        nn.Conv2d(in_channels=64, out_channels=128, kernel_size=3, padding=1),\n",
    "        nn.ReLU(inplace=True),\n",
    "        nn.Conv2d(in_channels=128, out_channels=128, kernel_size=3, padding=1),\n",
    "        nn.ReLU(inplace=True),\n",
    "        nn.MaxPool2d(kernel_size=2),\n",
    "\n",
    "        nn.Conv2d(in_channels=128, out_channels=256, kernel_size=3, padding=1),\n",
    "        nn.ReLU(inplace=True),\n",
    "        nn.Conv2d(in_channels=256, out_channels=256, kernel_size=3, padding=1),\n",
    "        nn.ReLU(inplace=True),\n",
    "        nn.MaxPool2d(kernel_size=2)\n",
    "    )\n",
    "    self.flatten = nn.Flatten()\n",
    "    self.classifier = nn.Linear(in_features=4096, out_features=num_classes)\n",
    "\n",
    "  def forward(self, x):\n",
    "    x = self.features(x) # torch.Size([32, 256, 4, 4])\n",
    "    x = self.flatten(x) # torch.Size([32, 4096])\n",
    "    x = self.classifier(x)\n",
    "    return x\n",
    "\n",
    "model = CNN(len(classes))\n",
    "model.to(device)"
   ],
   "metadata": {
    "colab": {
     "base_uri": "https://localhost:8080/"
    },
    "id": "LhZHYIw1fAs9",
    "executionInfo": {
     "status": "ok",
     "timestamp": 1675400124102,
     "user_tz": -540,
     "elapsed": 4234,
     "user": {
      "displayName": "くすのき.",
      "userId": "13254965509386173093"
     }
    },
    "outputId": "def92735-e577-4970-9491-812f03dcd8b3"
   },
   "execution_count": 3,
   "outputs": [
    {
     "data": {
      "text/plain": "CNN(\n  (features): Sequential(\n    (0): Conv2d(3, 64, kernel_size=(3, 3), stride=(1, 1), padding=(1, 1))\n    (1): ReLU(inplace=True)\n    (2): Conv2d(64, 64, kernel_size=(3, 3), stride=(1, 1), padding=(1, 1))\n    (3): ReLU(inplace=True)\n    (4): MaxPool2d(kernel_size=2, stride=2, padding=0, dilation=1, ceil_mode=False)\n    (5): Conv2d(64, 128, kernel_size=(3, 3), stride=(1, 1), padding=(1, 1))\n    (6): ReLU(inplace=True)\n    (7): Conv2d(128, 128, kernel_size=(3, 3), stride=(1, 1), padding=(1, 1))\n    (8): ReLU(inplace=True)\n    (9): MaxPool2d(kernel_size=2, stride=2, padding=0, dilation=1, ceil_mode=False)\n    (10): Conv2d(128, 256, kernel_size=(3, 3), stride=(1, 1), padding=(1, 1))\n    (11): ReLU(inplace=True)\n    (12): Conv2d(256, 256, kernel_size=(3, 3), stride=(1, 1), padding=(1, 1))\n    (13): ReLU(inplace=True)\n    (14): MaxPool2d(kernel_size=2, stride=2, padding=0, dilation=1, ceil_mode=False)\n  )\n  (flatten): Flatten(start_dim=1, end_dim=-1)\n  (classifier): Linear(in_features=4096, out_features=10, bias=True)\n)"
     },
     "execution_count": 3,
     "metadata": {},
     "output_type": "execute_result"
    }
   ]
  },
  {
   "cell_type": "code",
   "source": [
    "##### 損失関数、オプティマイザ\n",
    "lr = 0.01\n",
    "\n",
    "criterion = nn.CrossEntropyLoss()\n",
    "optimizer = torch.optim.SGD(model.parameters(), lr=lr)"
   ],
   "metadata": {
    "id": "OjLR0R7afB7G",
    "executionInfo": {
     "status": "ok",
     "timestamp": 1675400124103,
     "user_tz": -540,
     "elapsed": 11,
     "user": {
      "displayName": "くすのき.",
      "userId": "13254965509386173093"
     }
    }
   },
   "execution_count": 4,
   "outputs": []
  },
  {
   "cell_type": "code",
   "source": [
    "##### 学習\n",
    "num_epochs = 30\n",
    "train_losses = []\n",
    "train_accs = []\n",
    "test_losses = []\n",
    "test_accs = []\n",
    "\n",
    "for epoch in range(num_epochs):\n",
    "  train_running_loss = 0.0\n",
    "  train_running_acc = 0.0\n",
    "  for imgs, labels in train_dataloader:\n",
    "    imgs = imgs.to(device)\n",
    "    labels = labels.to(device)\n",
    "    optimizer.zero_grad()\n",
    "    output = model(imgs)\n",
    "    loss = criterion(output, labels)\n",
    "    loss.backward()\n",
    "    train_running_loss += loss.item()\n",
    "    pred = torch.argmax(output, dim=1)\n",
    "    train_running_acc += torch.mean(pred.eq(labels).float())\n",
    "    optimizer.step()\n",
    "  train_running_loss /= len(train_dataloader)\n",
    "  train_running_acc /= len(train_dataloader)\n",
    "  train_losses.append(train_running_loss)\n",
    "  train_accs.append(train_running_acc.cpu())\n",
    "\n",
    "  test_running_loss = 0.0\n",
    "  test_running_acc = 0.0\n",
    "  for imgs, labels in test_dataloader:\n",
    "    imgs = imgs.to(device)\n",
    "    labels = labels.to(device)\n",
    "    output = model(imgs)\n",
    "    loss = criterion(output, labels)\n",
    "    test_running_loss += loss.item()\n",
    "    pred = torch.argmax(output, dim=1)\n",
    "    test_running_acc += torch.mean(pred.eq(labels).float())\n",
    "  test_running_loss /= len(test_dataloader)\n",
    "  test_running_acc /= len(test_dataloader)\n",
    "  test_losses.append(test_running_loss)\n",
    "  test_accs.append(test_running_acc.cpu())\n",
    "\n",
    "  print(f\"epoch: {epoch}, train-loss: {train_running_loss}, train-acc: {train_running_acc}, test-loss: {test_running_loss}, test-acc: {test_running_acc}\")"
   ],
   "metadata": {
    "colab": {
     "base_uri": "https://localhost:8080/"
    },
    "id": "RC9hvXkKfDdJ",
    "executionInfo": {
     "status": "ok",
     "timestamp": 1675400729848,
     "user_tz": -540,
     "elapsed": 605755,
     "user": {
      "displayName": "くすのき.",
      "userId": "13254965509386173093"
     }
    },
    "outputId": "874493da-1cde-4ece-ce5d-9f68e5ac91f1"
   },
   "execution_count": 5,
   "outputs": [
    {
     "name": "stdout",
     "output_type": "stream",
     "text": [
      "epoch: 0, train-loss: 2.283564547888377, train-acc: 0.14263436198234558, test-loss: 2.0700263283884945, test-acc: 0.25848641991615295\n",
      "epoch: 1, train-loss: 1.8711979150467017, train-acc: 0.3210572600364685, test-loss: 1.6687443062139395, test-acc: 0.39766374230384827\n",
      "epoch: 2, train-loss: 1.5752515887420908, train-acc: 0.4276631474494934, test-loss: 1.4534616047581925, test-acc: 0.46295925974845886\n",
      "epoch: 3, train-loss: 1.4103675945325302, train-acc: 0.49426183104515076, test-loss: 1.3571627258111874, test-acc: 0.5070886611938477\n",
      "epoch: 4, train-loss: 1.2801544113717473, train-acc: 0.5427263379096985, test-loss: 1.3830821557928579, test-acc: 0.516473650932312\n",
      "epoch: 5, train-loss: 1.1537158009873243, train-acc: 0.5937699675559998, test-loss: 1.1450642834837064, test-acc: 0.6019368767738342\n",
      "epoch: 6, train-loss: 1.0497604468581163, train-acc: 0.6287788152694702, test-loss: 1.0149718176442595, test-acc: 0.6427715420722961\n",
      "epoch: 7, train-loss: 0.9696215043751307, train-acc: 0.6619082093238831, test-loss: 0.9031668154005045, test-acc: 0.6837060451507568\n",
      "epoch: 8, train-loss: 0.9044167824990461, train-acc: 0.6841210722923279, test-loss: 0.8940331775921221, test-acc: 0.6860023736953735\n",
      "epoch: 9, train-loss: 0.8432776622107147, train-acc: 0.7077135443687439, test-loss: 0.8673088299199796, test-acc: 0.6987819075584412\n",
      "epoch: 10, train-loss: 0.7968959436154259, train-acc: 0.7246281504631042, test-loss: 0.8030301401980768, test-acc: 0.7230431437492371\n",
      "epoch: 11, train-loss: 0.7520702624465896, train-acc: 0.7372840642929077, test-loss: 0.7860518405422235, test-acc: 0.7276357412338257\n",
      "epoch: 12, train-loss: 0.7089593188356911, train-acc: 0.7545785307884216, test-loss: 0.7789295384297356, test-acc: 0.7338258624076843\n",
      "epoch: 13, train-loss: 0.6716968757139133, train-acc: 0.7655550241470337, test-loss: 0.7871049789670176, test-acc: 0.7286341786384583\n",
      "epoch: 14, train-loss: 0.6350190433854105, train-acc: 0.7801103591918945, test-loss: 0.6792866827580876, test-acc: 0.7640774846076965\n",
      "epoch: 15, train-loss: 0.6033869508894605, train-acc: 0.7899872064590454, test-loss: 0.7012638318272063, test-acc: 0.7644768357276917\n",
      "epoch: 16, train-loss: 0.571897273195606, train-acc: 0.8028231263160706, test-loss: 0.7192510047469276, test-acc: 0.7572883367538452\n",
      "epoch: 17, train-loss: 0.5445331352514406, train-acc: 0.809820830821991, test-loss: 0.654500271375187, test-acc: 0.7810503244400024\n",
      "epoch: 18, train-loss: 0.5201226176833466, train-acc: 0.8177183270454407, test-loss: 0.653363149720259, test-acc: 0.7766573429107666\n",
      "epoch: 19, train-loss: 0.494567987624072, train-acc: 0.826395571231842, test-loss: 0.6219151154303322, test-acc: 0.7910343408584595\n",
      "epoch: 20, train-loss: 0.47187886023399395, train-acc: 0.8352926969528198, test-loss: 0.60844757769721, test-acc: 0.800319492816925\n",
      "epoch: 21, train-loss: 0.44911584085519696, train-acc: 0.8455494046211243, test-loss: 0.5889823409124685, test-acc: 0.8028154969215393\n",
      "epoch: 22, train-loss: 0.42954979464173393, train-acc: 0.8504478335380554, test-loss: 0.6501104464165319, test-acc: 0.7842451930046082\n",
      "epoch: 23, train-loss: 0.4123180154627588, train-acc: 0.8558861017227173, test-loss: 0.5994067348706456, test-acc: 0.7990215420722961\n",
      "epoch: 24, train-loss: 0.39353835075064036, train-acc: 0.8637436032295227, test-loss: 0.586574090365023, test-acc: 0.8048123121261597\n",
      "epoch: 25, train-loss: 0.37501633780998295, train-acc: 0.8678023219108582, test-loss: 0.6270459322407603, test-acc: 0.7965255379676819\n",
      "epoch: 26, train-loss: 0.3571680792019257, train-acc: 0.8758397102355957, test-loss: 0.5947911841943622, test-acc: 0.8097044825553894\n",
      "epoch: 27, train-loss: 0.344801468420738, train-acc: 0.8795985579490662, test-loss: 0.6490607864369219, test-acc: 0.7992212176322937\n",
      "epoch: 28, train-loss: 0.3286449417116756, train-acc: 0.8840770721435547, test-loss: 0.6533915076773769, test-acc: 0.8020167350769043\n",
      "epoch: 29, train-loss: 0.30970154521046583, train-acc: 0.8921345472335815, test-loss: 0.6342391145353119, test-acc: 0.8010183572769165\n"
     ]
    }
   ]
  },
  {
   "cell_type": "code",
   "source": [
    "##### 評価: loss\n",
    "plt.style.use(\"ggplot\")\n",
    "plt.plot(train_losses, label=\"train loss\")\n",
    "plt.plot(test_losses, label=\"test loss\")\n",
    "plt.legend()"
   ],
   "metadata": {
    "colab": {
     "base_uri": "https://localhost:8080/",
     "height": 282
    },
    "id": "ijY9xSclfFxP",
    "executionInfo": {
     "status": "ok",
     "timestamp": 1675400740600,
     "user_tz": -540,
     "elapsed": 13,
     "user": {
      "displayName": "くすのき.",
      "userId": "13254965509386173093"
     }
    },
    "outputId": "dafaf51e-6a68-449b-840a-347310fcb968"
   },
   "execution_count": 6,
   "outputs": [
    {
     "data": {
      "text/plain": "<matplotlib.legend.Legend at 0x20c77859370>"
     },
     "execution_count": 6,
     "metadata": {},
     "output_type": "execute_result"
    },
    {
     "data": {
      "text/plain": "<Figure size 640x480 with 1 Axes>",
      "image/png": "[encoded data removed]"
     },
     "metadata": {},
     "output_type": "display_data"
    }
   ]
  },
  {
   "cell_type": "code",
   "source": [
    "##### 評価: accs\n",
    "plt.plot(train_accs, label=\"train acc\")\n",
    "plt.plot(test_accs, label=\"test acc\")\n",
    "plt.legend()"
   ],
   "metadata": {
    "colab": {
     "base_uri": "https://localhost:8080/",
     "height": 282
    },
    "id": "-QZEwDPHfJgQ",
    "executionInfo": {
     "status": "ok",
     "timestamp": 1675400744605,
     "user_tz": -540,
     "elapsed": 385,
     "user": {
      "displayName": "くすのき.",
      "userId": "13254965509386173093"
     }
    },
    "outputId": "8e35e53f-64b0-48ef-f67f-dc2a19088c89"
   },
   "execution_count": 7,
   "outputs": [
    {
     "data": {
      "text/plain": "<matplotlib.legend.Legend at 0x20c000ead30>"
     },
     "execution_count": 7,
     "metadata": {},
     "output_type": "execute_result"
    },
    {
     "data": {
      "text/plain": "<Figure size 640x480 with 1 Axes>",
      "image/png": "[encoded data removed]"
     },
     "metadata": {},
     "output_type": "display_data"
    }
   ]
  },
  {
   "cell_type": "code",
   "source": [],
   "metadata": {
    "id": "XCFzN3ypk_6H"
   },
   "execution_count": null,
   "outputs": []
  }
 ]
}
