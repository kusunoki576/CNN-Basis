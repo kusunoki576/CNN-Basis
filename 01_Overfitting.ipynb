{
 "nbformat": 4,
 "nbformat_minor": 0,
 "metadata": {
  "colab": {
   "provenance": [],
   "authorship_tag": "ABX9TyOr3HDLJkHfI6WB7tEGlVy/"
  },
  "kernelspec": {
   "name": "python3",
   "display_name": "Python 3"
  },
  "language_info": {
   "name": "python"
  },
  "accelerator": "GPU",
  "gpuClass": "premium",
  "widgets": {
   "application/vnd.jupyter.widget-state+json": {
    "5f82b22c47214ef5b0ca5762ae3c2d14": {
     "model_module": "@jupyter-widgets/controls",
     "model_name": "HBoxModel",
     "model_module_version": "1.5.0",
     "state": {
      "_dom_classes": [],
      "_model_module": "@jupyter-widgets/controls",
      "_model_module_version": "1.5.0",
      "_model_name": "HBoxModel",
      "_view_count": null,
      "_view_module": "@jupyter-widgets/controls",
      "_view_module_version": "1.5.0",
      "_view_name": "HBoxView",
      "box_style": "",
      "children": [
       "IPY_MODEL_4e4eaa47765b48f59276651f3f9bfb5f",
       "IPY_MODEL_f79ffbfe198a43d6987821b1b1d7e5a5",
       "IPY_MODEL_fd91935c514c4ce9aef4ff45549470b8"
      ],
      "layout": "IPY_MODEL_829beaccf1b94d19b07aec50bfcd141e"
     }
    },
    "4e4eaa47765b48f59276651f3f9bfb5f": {
     "model_module": "@jupyter-widgets/controls",
     "model_name": "HTMLModel",
     "model_module_version": "1.5.0",
     "state": {
      "_dom_classes": [],
      "_model_module": "@jupyter-widgets/controls",
      "_model_module_version": "1.5.0",
      "_model_name": "HTMLModel",
      "_view_count": null,
      "_view_module": "@jupyter-widgets/controls",
      "_view_module_version": "1.5.0",
      "_view_name": "HTMLView",
      "description": "",
      "description_tooltip": null,
      "layout": "IPY_MODEL_a2f4dca5e7a44a849cf1a45c94969f37",
      "placeholder": "​",
      "style": "IPY_MODEL_4f41b3bb38724cb48056c9dbe1503860",
      "value": "100%"
     }
    },
    "f79ffbfe198a43d6987821b1b1d7e5a5": {
     "model_module": "@jupyter-widgets/controls",
     "model_name": "FloatProgressModel",
     "model_module_version": "1.5.0",
     "state": {
      "_dom_classes": [],
      "_model_module": "@jupyter-widgets/controls",
      "_model_module_version": "1.5.0",
      "_model_name": "FloatProgressModel",
      "_view_count": null,
      "_view_module": "@jupyter-widgets/controls",
      "_view_module_version": "1.5.0",
      "_view_name": "ProgressView",
      "bar_style": "success",
      "description": "",
      "description_tooltip": null,
      "layout": "IPY_MODEL_d63677a836304b6590f8a8056a0f9777",
      "max": 170498071,
      "min": 0,
      "orientation": "horizontal",
      "style": "IPY_MODEL_7242640370c747ba9652974eb4c8daee",
      "value": 170498071
     }
    },
    "fd91935c514c4ce9aef4ff45549470b8": {
     "model_module": "@jupyter-widgets/controls",
     "model_name": "HTMLModel",
     "model_module_version": "1.5.0",
     "state": {
      "_dom_classes": [],
      "_model_module": "@jupyter-widgets/controls",
      "_model_module_version": "1.5.0",
      "_model_name": "HTMLModel",
      "_view_count": null,
      "_view_module": "@jupyter-widgets/controls",
      "_view_module_version": "1.5.0",
      "_view_name": "HTMLView",
      "description": "",
      "description_tooltip": null,
      "layout": "IPY_MODEL_1d5464c699dd4ce1939648c23eee9d20",
      "placeholder": "​",
      "style": "IPY_MODEL_9011e0500b5d4f25aa724f27ba07ea35",
      "value": " 170498071/170498071 [00:05&lt;00:00, 33695236.52it/s]"
     }
    },
    "829beaccf1b94d19b07aec50bfcd141e": {
     "model_module": "@jupyter-widgets/base",
     "model_name": "LayoutModel",
     "model_module_version": "1.2.0",
     "state": {
      "_model_module": "@jupyter-widgets/base",
      "_model_module_version": "1.2.0",
      "_model_name": "LayoutModel",
      "_view_count": null,
      "_view_module": "@jupyter-widgets/base",
      "_view_module_version": "1.2.0",
      "_view_name": "LayoutView",
      "align_content": null,
      "align_items": null,
      "align_self": null,
      "border": null,
      "bottom": null,
      "display": null,
      "flex": null,
      "flex_flow": null,
      "grid_area": null,
      "grid_auto_columns": null,
      "grid_auto_flow": null,
      "grid_auto_rows": null,
      "grid_column": null,
      "grid_gap": null,
      "grid_row": null,
      "grid_template_areas": null,
      "grid_template_columns": null,
      "grid_template_rows": null,
      "height": null,
      "justify_content": null,
      "justify_items": null,
      "left": null,
      "margin": null,
      "max_height": null,
      "max_width": null,
      "min_height": null,
      "min_width": null,
      "object_fit": null,
      "object_position": null,
      "order": null,
      "overflow": null,
      "overflow_x": null,
      "overflow_y": null,
      "padding": null,
      "right": null,
      "top": null,
      "visibility": null,
      "width": null
     }
    },
    "a2f4dca5e7a44a849cf1a45c94969f37": {
     "model_module": "@jupyter-widgets/base",
     "model_name": "LayoutModel",
     "model_module_version": "1.2.0",
     "state": {
      "_model_module": "@jupyter-widgets/base",
      "_model_module_version": "1.2.0",
      "_model_name": "LayoutModel",
      "_view_count": null,
      "_view_module": "@jupyter-widgets/base",
      "_view_module_version": "1.2.0",
      "_view_name": "LayoutView",
      "align_content": null,
      "align_items": null,
      "align_self": null,
      "border": null,
      "bottom": null,
      "display": null,
      "flex": null,
      "flex_flow": null,
      "grid_area": null,
      "grid_auto_columns": null,
      "grid_auto_flow": null,
      "grid_auto_rows": null,
      "grid_column": null,
      "grid_gap": null,
      "grid_row": null,
      "grid_template_areas": null,
      "grid_template_columns": null,
      "grid_template_rows": null,
      "height": null,
      "justify_content": null,
      "justify_items": null,
      "left": null,
      "margin": null,
      "max_height": null,
      "max_width": null,
      "min_height": null,
      "min_width": null,
      "object_fit": null,
      "object_position": null,
      "order": null,
      "overflow": null,
      "overflow_x": null,
      "overflow_y": null,
      "padding": null,
      "right": null,
      "top": null,
      "visibility": null,
      "width": null
     }
    },
    "4f41b3bb38724cb48056c9dbe1503860": {
     "model_module": "@jupyter-widgets/controls",
     "model_name": "DescriptionStyleModel",
     "model_module_version": "1.5.0",
     "state": {
      "_model_module": "@jupyter-widgets/controls",
      "_model_module_version": "1.5.0",
      "_model_name": "DescriptionStyleModel",
      "_view_count": null,
      "_view_module": "@jupyter-widgets/base",
      "_view_module_version": "1.2.0",
      "_view_name": "StyleView",
      "description_width": ""
     }
    },
    "d63677a836304b6590f8a8056a0f9777": {
     "model_module": "@jupyter-widgets/base",
     "model_name": "LayoutModel",
     "model_module_version": "1.2.0",
     "state": {
      "_model_module": "@jupyter-widgets/base",
      "_model_module_version": "1.2.0",
      "_model_name": "LayoutModel",
      "_view_count": null,
      "_view_module": "@jupyter-widgets/base",
      "_view_module_version": "1.2.0",
      "_view_name": "LayoutView",
      "align_content": null,
      "align_items": null,
      "align_self": null,
      "border": null,
      "bottom": null,
      "display": null,
      "flex": null,
      "flex_flow": null,
      "grid_area": null,
      "grid_auto_columns": null,
      "grid_auto_flow": null,
      "grid_auto_rows": null,
      "grid_column": null,
      "grid_gap": null,
      "grid_row": null,
      "grid_template_areas": null,
      "grid_template_columns": null,
      "grid_template_rows": null,
      "height": null,
      "justify_content": null,
      "justify_items": null,
      "left": null,
      "margin": null,
      "max_height": null,
      "max_width": null,
      "min_height": null,
      "min_width": null,
      "object_fit": null,
      "object_position": null,
      "order": null,
      "overflow": null,
      "overflow_x": null,
      "overflow_y": null,
      "padding": null,
      "right": null,
      "top": null,
      "visibility": null,
      "width": null
     }
    },
    "7242640370c747ba9652974eb4c8daee": {
     "model_module": "@jupyter-widgets/controls",
     "model_name": "ProgressStyleModel",
     "model_module_version": "1.5.0",
     "state": {
      "_model_module": "@jupyter-widgets/controls",
      "_model_module_version": "1.5.0",
      "_model_name": "ProgressStyleModel",
      "_view_count": null,
      "_view_module": "@jupyter-widgets/base",
      "_view_module_version": "1.2.0",
      "_view_name": "StyleView",
      "bar_color": null,
      "description_width": ""
     }
    },
    "1d5464c699dd4ce1939648c23eee9d20": {
     "model_module": "@jupyter-widgets/base",
     "model_name": "LayoutModel",
     "model_module_version": "1.2.0",
     "state": {
      "_model_module": "@jupyter-widgets/base",
      "_model_module_version": "1.2.0",
      "_model_name": "LayoutModel",
      "_view_count": null,
      "_view_module": "@jupyter-widgets/base",
      "_view_module_version": "1.2.0",
      "_view_name": "LayoutView",
      "align_content": null,
      "align_items": null,
      "align_self": null,
      "border": null,
      "bottom": null,
      "display": null,
      "flex": null,
      "flex_flow": null,
      "grid_area": null,
      "grid_auto_columns": null,
      "grid_auto_flow": null,
      "grid_auto_rows": null,
      "grid_column": null,
      "grid_gap": null,
      "grid_row": null,
      "grid_template_areas": null,
      "grid_template_columns": null,
      "grid_template_rows": null,
      "height": null,
      "justify_content": null,
      "justify_items": null,
      "left": null,
      "margin": null,
      "max_height": null,
      "max_width": null,
      "min_height": null,
      "min_width": null,
      "object_fit": null,
      "object_position": null,
      "order": null,
      "overflow": null,
      "overflow_x": null,
      "overflow_y": null,
      "padding": null,
      "right": null,
      "top": null,
      "visibility": null,
      "width": null
     }
    },
    "9011e0500b5d4f25aa724f27ba07ea35": {
     "model_module": "@jupyter-widgets/controls",
     "model_name": "DescriptionStyleModel",
     "model_module_version": "1.5.0",
     "state": {
      "_model_module": "@jupyter-widgets/controls",
      "_model_module_version": "1.5.0",
      "_model_name": "DescriptionStyleModel",
      "_view_count": null,
      "_view_module": "@jupyter-widgets/base",
      "_view_module_version": "1.2.0",
      "_view_name": "StyleView",
      "description_width": ""
     }
    }
   }
  }
 },
 "cells": [
  {
   "cell_type": "code",
   "execution_count": 1,
   "metadata": {
    "colab": {
     "base_uri": "https://localhost:8080/",
     "height": 35
    },
    "id": "-qCWzcYqe7uQ",
    "executionInfo": {
     "status": "ok",
     "timestamp": 1675400110065,
     "user_tz": -540,
     "elapsed": 3929,
     "user": {
      "displayName": "くすのき.",
      "userId": "13254965509386173093"
     }
    },
    "outputId": "47c5ffd0-86c0-4b0e-a6e5-913b2e45e357"
   },
   "outputs": [
    {
     "data": {
      "text/plain": "'cuda'"
     },
     "execution_count": 1,
     "metadata": {},
     "output_type": "execute_result"
    }
   ],
   "source": [
    "import torch\n",
    "import torch.nn as nn\n",
    "import torch.optim as optim\n",
    "from torchvision import datasets, transforms\n",
    "from torch.utils.data import DataLoader\n",
    "\n",
    "import numpy as np\n",
    "import matplotlib.pyplot as plt\n",
    "%matplotlib inline\n",
    "\n",
    "device = \"cuda\" if torch.cuda.is_available() else \"cpu\"\n",
    "device"
   ]
  },
  {
   "cell_type": "code",
   "source": [
    "##### 学習データ/テストデータ作成\n",
    "train_transform = transforms.Compose([\n",
    "    transforms.ToTensor(),\n",
    "    transforms.Normalize((0.5,), (0.5,))\n",
    "])\n",
    "test_transform = transforms.Compose([\n",
    "    transforms.ToTensor(),\n",
    "    transforms.Normalize((0.5,), (0.5,))\n",
    "])\n",
    "\n",
    "train_dataset = datasets.CIFAR10(root=\"./data\", train=True, download=True, transform=train_transform)\n",
    "test_dataset = datasets.CIFAR10(root=\"./data\", train=False, download=True, transform=test_transform)\n",
    "\n",
    "train_dataloader = DataLoader(train_dataset, batch_size=32, shuffle=True)\n",
    "test_dataloader = DataLoader(test_dataset, batch_size=32, shuffle=False)\n",
    "\n",
    "classes = ('plane', 'car', 'bird', 'cat', 'deer', 'dog', 'frog', 'horse', 'ship', 'truck') # 正解ラベル"
   ],
   "metadata": {
    "colab": {
     "base_uri": "https://localhost:8080/",
     "height": 101,
     "referenced_widgets": [
      "5f82b22c47214ef5b0ca5762ae3c2d14",
      "4e4eaa47765b48f59276651f3f9bfb5f",
      "f79ffbfe198a43d6987821b1b1d7e5a5",
      "fd91935c514c4ce9aef4ff45549470b8",
      "829beaccf1b94d19b07aec50bfcd141e",
      "a2f4dca5e7a44a849cf1a45c94969f37",
      "4f41b3bb38724cb48056c9dbe1503860",
      "d63677a836304b6590f8a8056a0f9777",
      "7242640370c747ba9652974eb4c8daee",
      "1d5464c699dd4ce1939648c23eee9d20",
      "9011e0500b5d4f25aa724f27ba07ea35"
     ]
    },
    "id": "BiBmTNIve_c8",
    "executionInfo": {
     "status": "ok",
     "timestamp": 1675400119869,
     "user_tz": -540,
     "elapsed": 9807,
     "user": {
      "displayName": "くすのき.",
      "userId": "13254965509386173093"
     }
    },
    "outputId": "cefaae76-cdd3-4c01-8784-20f55c2e4ee4"
   },
   "execution_count": 2,
   "outputs": [
    {
     "name": "stdout",
     "output_type": "stream",
     "text": [
      "Files already downloaded and verified\n",
      "Files already downloaded and verified\n"
     ]
    }
   ]
  },
  {
   "cell_type": "code",
   "source": [
    "##### モデル定義\n",
    "class CNN(nn.Module):\n",
    "  def __init__(self, num_classes):\n",
    "    super().__init__()\n",
    "    # torch.Size([32, 3, 32, 32])\n",
    "    self.features = nn.Sequential(\n",
    "        nn.Conv2d(in_channels=3, out_channels=64, kernel_size=3, padding=1),\n",
    "        nn.ReLU(inplace=True),\n",
    "        nn.Conv2d(in_channels=64, out_channels=64, kernel_size=3, padding=1),\n",
    "        nn.ReLU(inplace=True),\n",
    "        nn.MaxPool2d(kernel_size=2),\n",
    "\n",
    "        nn.Conv2d(in_channels=64, out_channels=128, kernel_size=3, padding=1),\n",
    "        nn.ReLU(inplace=True),\n",
    "        nn.Conv2d(in_channels=128, out_channels=128, kernel_size=3, padding=1),\n",
    "        nn.ReLU(inplace=True),\n",
    "        nn.MaxPool2d(kernel_size=2),\n",
    "\n",
    "        nn.Conv2d(in_channels=128, out_channels=256, kernel_size=3, padding=1),\n",
    "        nn.ReLU(inplace=True),\n",
    "        nn.Conv2d(in_channels=256, out_channels=256, kernel_size=3, padding=1),\n",
    "        nn.ReLU(inplace=True),\n",
    "        nn.MaxPool2d(kernel_size=2)\n",
    "    )\n",
    "    self.flatten = nn.Flatten()\n",
    "    self.classifier = nn.Linear(in_features=4096, out_features=num_classes)\n",
    "\n",
    "  def forward(self, x):\n",
    "    x = self.features(x) # torch.Size([32, 256, 4, 4])\n",
    "    x = self.flatten(x) # torch.Size([32, 4096])\n",
    "    x = self.classifier(x)\n",
    "    return x\n",
    "\n",
    "model = CNN(len(classes))\n",
    "model.to(device)"
   ],
   "metadata": {
    "colab": {
     "base_uri": "https://localhost:8080/"
    },
    "id": "LhZHYIw1fAs9",
    "executionInfo": {
     "status": "ok",
     "timestamp": 1675400124102,
     "user_tz": -540,
     "elapsed": 4234,
     "user": {
      "displayName": "くすのき.",
      "userId": "13254965509386173093"
     }
    },
    "outputId": "def92735-e577-4970-9491-812f03dcd8b3"
   },
   "execution_count": 3,
   "outputs": [
    {
     "data": {
      "text/plain": "CNN(\n  (features): Sequential(\n    (0): Conv2d(3, 64, kernel_size=(3, 3), stride=(1, 1), padding=(1, 1))\n    (1): ReLU(inplace=True)\n    (2): Conv2d(64, 64, kernel_size=(3, 3), stride=(1, 1), padding=(1, 1))\n    (3): ReLU(inplace=True)\n    (4): MaxPool2d(kernel_size=2, stride=2, padding=0, dilation=1, ceil_mode=False)\n    (5): Conv2d(64, 128, kernel_size=(3, 3), stride=(1, 1), padding=(1, 1))\n    (6): ReLU(inplace=True)\n    (7): Conv2d(128, 128, kernel_size=(3, 3), stride=(1, 1), padding=(1, 1))\n    (8): ReLU(inplace=True)\n    (9): MaxPool2d(kernel_size=2, stride=2, padding=0, dilation=1, ceil_mode=False)\n    (10): Conv2d(128, 256, kernel_size=(3, 3), stride=(1, 1), padding=(1, 1))\n    (11): ReLU(inplace=True)\n    (12): Conv2d(256, 256, kernel_size=(3, 3), stride=(1, 1), padding=(1, 1))\n    (13): ReLU(inplace=True)\n    (14): MaxPool2d(kernel_size=2, stride=2, padding=0, dilation=1, ceil_mode=False)\n  )\n  (flatten): Flatten(start_dim=1, end_dim=-1)\n  (classifier): Linear(in_features=4096, out_features=10, bias=True)\n)"
     },
     "execution_count": 3,
     "metadata": {},
     "output_type": "execute_result"
    }
   ]
  },
  {
   "cell_type": "code",
   "source": [
    "##### 損失関数、オプティマイザ\n",
    "lr = 0.01\n",
    "\n",
    "criterion = nn.CrossEntropyLoss()\n",
    "optimizer = torch.optim.SGD(model.parameters(), lr=lr)"
   ],
   "metadata": {
    "id": "OjLR0R7afB7G",
    "executionInfo": {
     "status": "ok",
     "timestamp": 1675400124103,
     "user_tz": -540,
     "elapsed": 11,
     "user": {
      "displayName": "くすのき.",
      "userId": "13254965509386173093"
     }
    }
   },
   "execution_count": 4,
   "outputs": []
  },
  {
   "cell_type": "code",
   "source": [
    "##### 学習\n",
    "num_epochs = 30\n",
    "train_losses = []\n",
    "train_accs = []\n",
    "test_losses = []\n",
    "test_accs = []\n",
    "\n",
    "for epoch in range(num_epochs):\n",
    "  train_running_loss = 0.0\n",
    "  train_running_acc = 0.0\n",
    "  for imgs, labels in train_dataloader:\n",
    "    imgs = imgs.to(device)\n",
    "    labels = labels.to(device)\n",
    "    optimizer.zero_grad()\n",
    "    output = model(imgs)\n",
    "    loss = criterion(output, labels)\n",
    "    loss.backward()\n",
    "    train_running_loss += loss.item()\n",
    "    pred = torch.argmax(output, dim=1)\n",
    "    train_running_acc += torch.mean(pred.eq(labels).float())\n",
    "    optimizer.step()\n",
    "  train_running_loss /= len(train_dataloader)\n",
    "  train_running_acc /= len(train_dataloader)\n",
    "  train_losses.append(train_running_loss)\n",
    "  train_accs.append(train_running_acc.cpu())\n",
    "\n",
    "  test_running_loss = 0.0\n",
    "  test_running_acc = 0.0\n",
    "  for imgs, labels in test_dataloader:\n",
    "    imgs = imgs.to(device)\n",
    "    labels = labels.to(device)\n",
    "    output = model(imgs)\n",
    "    loss = criterion(output, labels)\n",
    "    test_running_loss += loss.item()\n",
    "    pred = torch.argmax(output, dim=1)\n",
    "    test_running_acc += torch.mean(pred.eq(labels).float())\n",
    "  test_running_loss /= len(test_dataloader)\n",
    "  test_running_acc /= len(test_dataloader)\n",
    "  test_losses.append(test_running_loss)\n",
    "  test_accs.append(test_running_acc.cpu())\n",
    "\n",
    "  print(f\"epoch: {epoch}, train-loss: {train_running_loss}, train-acc: {train_running_acc}, test-loss: {test_running_loss}, test-acc: {test_running_acc}\")"
   ],
   "metadata": {
    "colab": {
     "base_uri": "https://localhost:8080/"
    },
    "id": "RC9hvXkKfDdJ",
    "executionInfo": {
     "status": "ok",
     "timestamp": 1675400729848,
     "user_tz": -540,
     "elapsed": 605755,
     "user": {
      "displayName": "くすのき.",
      "userId": "13254965509386173093"
     }
    },
    "outputId": "874493da-1cde-4ece-ce5d-9f68e5ac91f1"
   },
   "execution_count": 5,
   "outputs": [
    {
     "name": "stdout",
     "output_type": "stream",
     "text": [
      "epoch: 0, train-loss: 2.285591035566495, train-acc: 0.14301423728466034, test-loss: 2.084313171359297, test-acc: 0.23542331159114838\n",
      "epoch: 1, train-loss: 1.88626259546286, train-acc: 0.30432263016700745, test-loss: 1.6560974433399236, test-acc: 0.3850838541984558\n",
      "epoch: 2, train-loss: 1.550184087500081, train-acc: 0.4361804127693176, test-loss: 1.4432074654216585, test-acc: 0.47494009137153625\n",
      "epoch: 3, train-loss: 1.3812615586944064, train-acc: 0.5055382251739502, test-loss: 1.331660347053418, test-acc: 0.5310503244400024\n",
      "epoch: 4, train-loss: 1.2236826245173078, train-acc: 0.5657789707183838, test-loss: 1.1495756573570421, test-acc: 0.5945487022399902\n",
      "epoch: 5, train-loss: 1.089893157102325, train-acc: 0.6154830455780029, test-loss: 1.1600043430876807, test-acc: 0.6026358008384705\n",
      "epoch: 6, train-loss: 0.976213152352923, train-acc: 0.6594489812850952, test-loss: 0.9778842280467097, test-acc: 0.654552698135376\n",
      "epoch: 7, train-loss: 0.8847194897655638, train-acc: 0.6905990242958069, test-loss: 0.9236722144836815, test-acc: 0.6780151724815369\n",
      "epoch: 8, train-loss: 0.8045380118369141, train-acc: 0.7204694747924805, test-loss: 0.9558215923964406, test-acc: 0.6820088028907776\n",
      "epoch: 9, train-loss: 0.7381095002075837, train-acc: 0.7436220645904541, test-loss: 0.8931335906822461, test-acc: 0.6892971396446228\n",
      "epoch: 10, train-loss: 0.6729849414686628, train-acc: 0.7664947509765625, test-loss: 0.8527623536868598, test-acc: 0.7062699794769287\n",
      "epoch: 11, train-loss: 0.6126732836338624, train-acc: 0.7892074584960938, test-loss: 0.9231909281148697, test-acc: 0.6949880123138428\n",
      "epoch: 12, train-loss: 0.5517063558158857, train-acc: 0.8079614639282227, test-loss: 0.8260190127947079, test-acc: 0.7255391478538513\n",
      "epoch: 13, train-loss: 0.4897408122750939, train-acc: 0.8307741284370422, test-loss: 0.8206641772113288, test-acc: 0.7314296960830688\n",
      "epoch: 14, train-loss: 0.42948246513203175, train-acc: 0.8499680161476135, test-loss: 0.8313033565545616, test-acc: 0.7310303449630737\n",
      "epoch: 15, train-loss: 0.3687388153719315, train-acc: 0.8709213137626648, test-loss: 0.926578654934423, test-acc: 0.7230431437492371\n",
      "epoch: 16, train-loss: 0.3079086045924662, train-acc: 0.8916746377944946, test-loss: 0.9459744194349923, test-acc: 0.7269368767738342\n",
      "epoch: 17, train-loss: 0.25472069754767557, train-acc: 0.9110084772109985, test-loss: 1.002057466929713, test-acc: 0.7312300205230713\n",
      "epoch: 18, train-loss: 0.20938062542240282, train-acc: 0.926923394203186, test-loss: 1.0436411537110997, test-acc: 0.7345247268676758\n",
      "epoch: 19, train-loss: 0.16835398666956297, train-acc: 0.9402590990066528, test-loss: 1.0898884146358259, test-acc: 0.7305311560630798\n",
      "epoch: 20, train-loss: 0.13209364851114416, train-acc: 0.9540947079658508, test-loss: 1.3503569835862412, test-acc: 0.7126597166061401\n",
      "epoch: 21, train-loss: 0.12049447873014997, train-acc: 0.9574936032295227, test-loss: 1.2231559062156434, test-acc: 0.7345247268676758\n",
      "epoch: 22, train-loss: 0.09305267636643356, train-acc: 0.9671705365180969, test-loss: 1.3699703486011432, test-acc: 0.7336261868476868\n",
      "epoch: 23, train-loss: 0.08319592177210959, train-acc: 0.9713691473007202, test-loss: 1.46749406757827, test-acc: 0.7317292094230652\n",
      "epoch: 24, train-loss: 0.07060359653948865, train-acc: 0.9755478501319885, test-loss: 1.4668456028444699, test-acc: 0.7396165728569031\n",
      "epoch: 25, train-loss: 0.0621995729831578, train-acc: 0.9784668684005737, test-loss: 1.4982961314364363, test-acc: 0.7459065318107605\n",
      "epoch: 26, train-loss: 0.05238254158437355, train-acc: 0.9824656248092651, test-loss: 1.6516470925305218, test-acc: 0.7377196550369263\n",
      "epoch: 27, train-loss: 0.0409345765066615, train-acc: 0.9861444234848022, test-loss: 1.7170509220407413, test-acc: 0.7350239753723145\n",
      "epoch: 28, train-loss: 0.051590809443754326, train-acc: 0.9818258285522461, test-loss: 1.6206790499222545, test-acc: 0.7399161458015442\n",
      "epoch: 29, train-loss: 0.04393742027076829, train-acc: 0.9845449328422546, test-loss: 1.7025949395597932, test-acc: 0.7327276468276978\n"
     ]
    }
   ]
  },
  {
   "cell_type": "code",
   "source": [
    "##### 評価: loss\n",
    "plt.style.use(\"ggplot\")\n",
    "plt.plot(train_losses, label=\"train loss\")\n",
    "plt.plot(test_losses, label=\"test loss\")\n",
    "plt.legend()"
   ],
   "metadata": {
    "colab": {
     "base_uri": "https://localhost:8080/",
     "height": 282
    },
    "id": "ijY9xSclfFxP",
    "executionInfo": {
     "status": "ok",
     "timestamp": 1675400740600,
     "user_tz": -540,
     "elapsed": 13,
     "user": {
      "displayName": "くすのき.",
      "userId": "13254965509386173093"
     }
    },
    "outputId": "dafaf51e-6a68-449b-840a-347310fcb968"
   },
   "execution_count": 6,
   "outputs": [
    {
     "data": {
      "text/plain": "<matplotlib.legend.Legend at 0x17dae958370>"
     },
     "execution_count": 6,
     "metadata": {},
     "output_type": "execute_result"
    },
    {
     "data": {
      "text/plain": "<Figure size 640x480 with 1 Axes>",
      "image/png": "[encoded data removed]"
     },
     "metadata": {},
     "output_type": "display_data"
    }
   ]
  },
  {
   "cell_type": "code",
   "source": [
    "##### 評価: accs\n",
    "plt.plot(train_accs, label=\"train acc\")\n",
    "plt.plot(test_accs, label=\"test acc\")\n",
    "plt.legend()"
   ],
   "metadata": {
    "colab": {
     "base_uri": "https://localhost:8080/",
     "height": 282
    },
    "id": "-QZEwDPHfJgQ",
    "executionInfo": {
     "status": "ok",
     "timestamp": 1675400744605,
     "user_tz": -540,
     "elapsed": 385,
     "user": {
      "displayName": "くすのき.",
      "userId": "13254965509386173093"
     }
    },
    "outputId": "8e35e53f-64b0-48ef-f67f-dc2a19088c89"
   },
   "execution_count": 7,
   "outputs": [
    {
     "data": {
      "text/plain": "<matplotlib.legend.Legend at 0x17df322e550>"
     },
     "execution_count": 7,
     "metadata": {},
     "output_type": "execute_result"
    },
    {
     "data": {
      "text/plain": "<Figure size 640x480 with 1 Axes>",
      "image/png": "[encoded data removed]"
     },
     "metadata": {},
     "output_type": "display_data"
    }
   ]
  },
  {
   "cell_type": "code",
   "source": [],
   "metadata": {
    "id": "XCFzN3ypk_6H"
   },
   "execution_count": null,
   "outputs": []
  }
 ]
}
