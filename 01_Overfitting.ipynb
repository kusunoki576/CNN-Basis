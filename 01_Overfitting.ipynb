{
 "nbformat": 4,
 "nbformat_minor": 0,
 "metadata": {
  "colab": {
   "provenance": [],
   "machine_shape": "hm",
   "authorship_tag": "ABX9TyObd2JfZLZyyoMfLde8T1uy"
  },
  "kernelspec": {
   "name": "python3",
   "display_name": "Python 3"
  },
  "language_info": {
   "name": "python"
  },
  "accelerator": "GPU",
  "gpuClass": "standard",
  "widgets": {
   "application/vnd.jupyter.widget-state+json": {
    "185406cdab4c446b90e46ca37a9403a9": {
     "model_module": "@jupyter-widgets/controls",
     "model_name": "HBoxModel",
     "model_module_version": "1.5.0",
     "state": {
      "_dom_classes": [],
      "_model_module": "@jupyter-widgets/controls",
      "_model_module_version": "1.5.0",
      "_model_name": "HBoxModel",
      "_view_count": null,
      "_view_module": "@jupyter-widgets/controls",
      "_view_module_version": "1.5.0",
      "_view_name": "HBoxView",
      "box_style": "",
      "children": [
       "IPY_MODEL_c01a9d06551b48a19a8b6e82b121c0df",
       "IPY_MODEL_f722b72b642348ddb0fcaf68dbe93c6a",
       "IPY_MODEL_70e81b660f2942f99c25e1ee9a6976f5"
      ],
      "layout": "IPY_MODEL_717951d1c0cb456c9ac0f6889b033665"
     }
    },
    "c01a9d06551b48a19a8b6e82b121c0df": {
     "model_module": "@jupyter-widgets/controls",
     "model_name": "HTMLModel",
     "model_module_version": "1.5.0",
     "state": {
      "_dom_classes": [],
      "_model_module": "@jupyter-widgets/controls",
      "_model_module_version": "1.5.0",
      "_model_name": "HTMLModel",
      "_view_count": null,
      "_view_module": "@jupyter-widgets/controls",
      "_view_module_version": "1.5.0",
      "_view_name": "HTMLView",
      "description": "",
      "description_tooltip": null,
      "layout": "IPY_MODEL_2011206d623342fe8b8e0ec55f1623e7",
      "placeholder": "​",
      "style": "IPY_MODEL_cded940f18094752a18e47ae0948f21e",
      "value": "100%"
     }
    },
    "f722b72b642348ddb0fcaf68dbe93c6a": {
     "model_module": "@jupyter-widgets/controls",
     "model_name": "FloatProgressModel",
     "model_module_version": "1.5.0",
     "state": {
      "_dom_classes": [],
      "_model_module": "@jupyter-widgets/controls",
      "_model_module_version": "1.5.0",
      "_model_name": "FloatProgressModel",
      "_view_count": null,
      "_view_module": "@jupyter-widgets/controls",
      "_view_module_version": "1.5.0",
      "_view_name": "ProgressView",
      "bar_style": "success",
      "description": "",
      "description_tooltip": null,
      "layout": "IPY_MODEL_91e30cb28f4041899c146bc336e0ec90",
      "max": 170498071,
      "min": 0,
      "orientation": "horizontal",
      "style": "IPY_MODEL_59b2d72effb343d4a2ad7f3c690f4854",
      "value": 170498071
     }
    },
    "70e81b660f2942f99c25e1ee9a6976f5": {
     "model_module": "@jupyter-widgets/controls",
     "model_name": "HTMLModel",
     "model_module_version": "1.5.0",
     "state": {
      "_dom_classes": [],
      "_model_module": "@jupyter-widgets/controls",
      "_model_module_version": "1.5.0",
      "_model_name": "HTMLModel",
      "_view_count": null,
      "_view_module": "@jupyter-widgets/controls",
      "_view_module_version": "1.5.0",
      "_view_name": "HTMLView",
      "description": "",
      "description_tooltip": null,
      "layout": "IPY_MODEL_517a74e7a86045eabac5ad107fdbb867",
      "placeholder": "​",
      "style": "IPY_MODEL_31e3aefbd85d4d6b8aa7576fada69849",
      "value": " 170498071/170498071 [00:10&lt;00:00, 18064286.24it/s]"
     }
    },
    "717951d1c0cb456c9ac0f6889b033665": {
     "model_module": "@jupyter-widgets/base",
     "model_name": "LayoutModel",
     "model_module_version": "1.2.0",
     "state": {
      "_model_module": "@jupyter-widgets/base",
      "_model_module_version": "1.2.0",
      "_model_name": "LayoutModel",
      "_view_count": null,
      "_view_module": "@jupyter-widgets/base",
      "_view_module_version": "1.2.0",
      "_view_name": "LayoutView",
      "align_content": null,
      "align_items": null,
      "align_self": null,
      "border": null,
      "bottom": null,
      "display": null,
      "flex": null,
      "flex_flow": null,
      "grid_area": null,
      "grid_auto_columns": null,
      "grid_auto_flow": null,
      "grid_auto_rows": null,
      "grid_column": null,
      "grid_gap": null,
      "grid_row": null,
      "grid_template_areas": null,
      "grid_template_columns": null,
      "grid_template_rows": null,
      "height": null,
      "justify_content": null,
      "justify_items": null,
      "left": null,
      "margin": null,
      "max_height": null,
      "max_width": null,
      "min_height": null,
      "min_width": null,
      "object_fit": null,
      "object_position": null,
      "order": null,
      "overflow": null,
      "overflow_x": null,
      "overflow_y": null,
      "padding": null,
      "right": null,
      "top": null,
      "visibility": null,
      "width": null
     }
    },
    "2011206d623342fe8b8e0ec55f1623e7": {
     "model_module": "@jupyter-widgets/base",
     "model_name": "LayoutModel",
     "model_module_version": "1.2.0",
     "state": {
      "_model_module": "@jupyter-widgets/base",
      "_model_module_version": "1.2.0",
      "_model_name": "LayoutModel",
      "_view_count": null,
      "_view_module": "@jupyter-widgets/base",
      "_view_module_version": "1.2.0",
      "_view_name": "LayoutView",
      "align_content": null,
      "align_items": null,
      "align_self": null,
      "border": null,
      "bottom": null,
      "display": null,
      "flex": null,
      "flex_flow": null,
      "grid_area": null,
      "grid_auto_columns": null,
      "grid_auto_flow": null,
      "grid_auto_rows": null,
      "grid_column": null,
      "grid_gap": null,
      "grid_row": null,
      "grid_template_areas": null,
      "grid_template_columns": null,
      "grid_template_rows": null,
      "height": null,
      "justify_content": null,
      "justify_items": null,
      "left": null,
      "margin": null,
      "max_height": null,
      "max_width": null,
      "min_height": null,
      "min_width": null,
      "object_fit": null,
      "object_position": null,
      "order": null,
      "overflow": null,
      "overflow_x": null,
      "overflow_y": null,
      "padding": null,
      "right": null,
      "top": null,
      "visibility": null,
      "width": null
     }
    },
    "cded940f18094752a18e47ae0948f21e": {
     "model_module": "@jupyter-widgets/controls",
     "model_name": "DescriptionStyleModel",
     "model_module_version": "1.5.0",
     "state": {
      "_model_module": "@jupyter-widgets/controls",
      "_model_module_version": "1.5.0",
      "_model_name": "DescriptionStyleModel",
      "_view_count": null,
      "_view_module": "@jupyter-widgets/base",
      "_view_module_version": "1.2.0",
      "_view_name": "StyleView",
      "description_width": ""
     }
    },
    "91e30cb28f4041899c146bc336e0ec90": {
     "model_module": "@jupyter-widgets/base",
     "model_name": "LayoutModel",
     "model_module_version": "1.2.0",
     "state": {
      "_model_module": "@jupyter-widgets/base",
      "_model_module_version": "1.2.0",
      "_model_name": "LayoutModel",
      "_view_count": null,
      "_view_module": "@jupyter-widgets/base",
      "_view_module_version": "1.2.0",
      "_view_name": "LayoutView",
      "align_content": null,
      "align_items": null,
      "align_self": null,
      "border": null,
      "bottom": null,
      "display": null,
      "flex": null,
      "flex_flow": null,
      "grid_area": null,
      "grid_auto_columns": null,
      "grid_auto_flow": null,
      "grid_auto_rows": null,
      "grid_column": null,
      "grid_gap": null,
      "grid_row": null,
      "grid_template_areas": null,
      "grid_template_columns": null,
      "grid_template_rows": null,
      "height": null,
      "justify_content": null,
      "justify_items": null,
      "left": null,
      "margin": null,
      "max_height": null,
      "max_width": null,
      "min_height": null,
      "min_width": null,
      "object_fit": null,
      "object_position": null,
      "order": null,
      "overflow": null,
      "overflow_x": null,
      "overflow_y": null,
      "padding": null,
      "right": null,
      "top": null,
      "visibility": null,
      "width": null
     }
    },
    "59b2d72effb343d4a2ad7f3c690f4854": {
     "model_module": "@jupyter-widgets/controls",
     "model_name": "ProgressStyleModel",
     "model_module_version": "1.5.0",
     "state": {
      "_model_module": "@jupyter-widgets/controls",
      "_model_module_version": "1.5.0",
      "_model_name": "ProgressStyleModel",
      "_view_count": null,
      "_view_module": "@jupyter-widgets/base",
      "_view_module_version": "1.2.0",
      "_view_name": "StyleView",
      "bar_color": null,
      "description_width": ""
     }
    },
    "517a74e7a86045eabac5ad107fdbb867": {
     "model_module": "@jupyter-widgets/base",
     "model_name": "LayoutModel",
     "model_module_version": "1.2.0",
     "state": {
      "_model_module": "@jupyter-widgets/base",
      "_model_module_version": "1.2.0",
      "_model_name": "LayoutModel",
      "_view_count": null,
      "_view_module": "@jupyter-widgets/base",
      "_view_module_version": "1.2.0",
      "_view_name": "LayoutView",
      "align_content": null,
      "align_items": null,
      "align_self": null,
      "border": null,
      "bottom": null,
      "display": null,
      "flex": null,
      "flex_flow": null,
      "grid_area": null,
      "grid_auto_columns": null,
      "grid_auto_flow": null,
      "grid_auto_rows": null,
      "grid_column": null,
      "grid_gap": null,
      "grid_row": null,
      "grid_template_areas": null,
      "grid_template_columns": null,
      "grid_template_rows": null,
      "height": null,
      "justify_content": null,
      "justify_items": null,
      "left": null,
      "margin": null,
      "max_height": null,
      "max_width": null,
      "min_height": null,
      "min_width": null,
      "object_fit": null,
      "object_position": null,
      "order": null,
      "overflow": null,
      "overflow_x": null,
      "overflow_y": null,
      "padding": null,
      "right": null,
      "top": null,
      "visibility": null,
      "width": null
     }
    },
    "31e3aefbd85d4d6b8aa7576fada69849": {
     "model_module": "@jupyter-widgets/controls",
     "model_name": "DescriptionStyleModel",
     "model_module_version": "1.5.0",
     "state": {
      "_model_module": "@jupyter-widgets/controls",
      "_model_module_version": "1.5.0",
      "_model_name": "DescriptionStyleModel",
      "_view_count": null,
      "_view_module": "@jupyter-widgets/base",
      "_view_module_version": "1.2.0",
      "_view_name": "StyleView",
      "description_width": ""
     }
    }
   }
  }
 },
 "cells": [
  {
   "cell_type": "code",
   "execution_count": 1,
   "metadata": {
    "colab": {
     "base_uri": "https://localhost:8080/",
     "height": 35
    },
    "id": "-qCWzcYqe7uQ",
    "executionInfo": {
     "status": "ok",
     "timestamp": 1675560772024,
     "user_tz": -540,
     "elapsed": 4783,
     "user": {
      "displayName": "くすのき.",
      "userId": "13254965509386173093"
     }
    },
    "outputId": "63a306c7-6b3a-4e54-8803-7c2b6e402a3c"
   },
   "outputs": [
    {
     "output_type": "execute_result",
     "data": {
      "text/plain": [
       "'cuda'"
      ],
      "application/vnd.google.colaboratory.intrinsic+json": {
       "type": "string"
      }
     },
     "metadata": {},
     "execution_count": 1
    }
   ],
   "source": [
    "import torch\n",
    "import torch.nn as nn\n",
    "import torch.optim as optim\n",
    "from torchvision import datasets, transforms\n",
    "from torch.utils.data import DataLoader\n",
    "\n",
    "from torchvision.io import read_image\n",
    "from torchvision.io import ImageReadMode\n",
    "\n",
    "import numpy as np\n",
    "import matplotlib.pyplot as plt\n",
    "%matplotlib inline\n",
    "\n",
    "device = \"cuda\" if torch.cuda.is_available() else \"cpu\"\n",
    "device"
   ]
  },
  {
   "cell_type": "code",
   "source": [
    "##### 学習データ/テストデータ作成\n",
    "train_transform = transforms.Compose([\n",
    "    transforms.ToTensor(),\n",
    "    transforms.Normalize((0.5,), (0.5,))\n",
    "])\n",
    "test_transform = transforms.Compose([\n",
    "    transforms.ToTensor(),\n",
    "    transforms.Normalize((0.5,), (0.5,))\n",
    "])\n",
    "\n",
    "train_dataset = datasets.CIFAR10(root=\"./data\", train=True, download=True, transform=train_transform)\n",
    "test_dataset = datasets.CIFAR10(root=\"./data\", train=False, download=True, transform=test_transform)\n",
    "\n",
    "train_dataloader = DataLoader(train_dataset, batch_size=32, shuffle=True)\n",
    "test_dataloader = DataLoader(test_dataset, batch_size=32, shuffle=False)\n",
    "\n",
    "classes = ('plane', 'car', 'bird', 'cat', 'deer', 'dog', 'frog', 'horse', 'ship', 'truck') # 正解ラベル"
   ],
   "metadata": {
    "colab": {
     "base_uri": "https://localhost:8080/",
     "height": 101,
     "referenced_widgets": [
      "185406cdab4c446b90e46ca37a9403a9",
      "c01a9d06551b48a19a8b6e82b121c0df",
      "f722b72b642348ddb0fcaf68dbe93c6a",
      "70e81b660f2942f99c25e1ee9a6976f5",
      "717951d1c0cb456c9ac0f6889b033665",
      "2011206d623342fe8b8e0ec55f1623e7",
      "cded940f18094752a18e47ae0948f21e",
      "91e30cb28f4041899c146bc336e0ec90",
      "59b2d72effb343d4a2ad7f3c690f4854",
      "517a74e7a86045eabac5ad107fdbb867",
      "31e3aefbd85d4d6b8aa7576fada69849"
     ]
    },
    "id": "BiBmTNIve_c8",
    "executionInfo": {
     "status": "ok",
     "timestamp": 1675560791309,
     "user_tz": -540,
     "elapsed": 15443,
     "user": {
      "displayName": "くすのき.",
      "userId": "13254965509386173093"
     }
    },
    "outputId": "2404c75d-b6a7-4500-d241-f37f295e5df0"
   },
   "execution_count": 2,
   "outputs": [
    {
     "output_type": "stream",
     "name": "stdout",
     "text": [
      "Downloading https://www.cs.toronto.edu/~kriz/cifar-10-python.tar.gz to ./data/cifar-10-python.tar.gz\n"
     ]
    },
    {
     "output_type": "display_data",
     "data": {
      "text/plain": [
       "  0%|          | 0/170498071 [00:00<?, ?it/s]"
      ],
      "application/vnd.jupyter.widget-view+json": {
       "version_major": 2,
       "version_minor": 0,
       "model_id": "185406cdab4c446b90e46ca37a9403a9"
      }
     },
     "metadata": {}
    },
    {
     "output_type": "stream",
     "name": "stdout",
     "text": [
      "Extracting ./data/cifar-10-python.tar.gz to ./data\n",
      "Files already downloaded and verified\n"
     ]
    }
   ]
  },
  {
   "cell_type": "code",
   "source": [
    "##### モデル定義\n",
    "class CNN(nn.Module):\n",
    "  def __init__(self, num_classes):\n",
    "    super().__init__()\n",
    "    # torch.Size([32, 3, 32, 32])\n",
    "    self.features = nn.Sequential(\n",
    "        nn.Conv2d(in_channels=3, out_channels=64, kernel_size=3, padding=1),\n",
    "        nn.ReLU(inplace=True),\n",
    "        nn.Conv2d(in_channels=64, out_channels=64, kernel_size=3, padding=1),\n",
    "        nn.ReLU(inplace=True),\n",
    "        nn.MaxPool2d(kernel_size=2),\n",
    "\n",
    "        nn.Conv2d(in_channels=64, out_channels=128, kernel_size=3, padding=1),\n",
    "        nn.ReLU(inplace=True),\n",
    "        nn.Conv2d(in_channels=128, out_channels=128, kernel_size=3, padding=1),\n",
    "        nn.ReLU(inplace=True),\n",
    "        nn.MaxPool2d(kernel_size=2),\n",
    "\n",
    "        nn.Conv2d(in_channels=128, out_channels=256, kernel_size=3, padding=1),\n",
    "        nn.ReLU(inplace=True),\n",
    "        nn.Conv2d(in_channels=256, out_channels=256, kernel_size=3, padding=1),\n",
    "        nn.ReLU(inplace=True),\n",
    "        nn.MaxPool2d(kernel_size=2)\n",
    "    )\n",
    "    self.flatten = nn.Flatten()\n",
    "    self.classifier = nn.Linear(in_features=4096, out_features=num_classes)\n",
    "\n",
    "  def forward(self, x):\n",
    "    x = self.features(x) # torch.Size([32, 256, 4, 4])\n",
    "    x = self.flatten(x) # torch.Size([32, 4096])\n",
    "    x = self.classifier(x)\n",
    "    return x\n",
    "\n",
    "model = CNN(len(classes))\n",
    "model.to(device)"
   ],
   "metadata": {
    "colab": {
     "base_uri": "https://localhost:8080/"
    },
    "id": "LhZHYIw1fAs9",
    "executionInfo": {
     "status": "ok",
     "timestamp": 1675560798506,
     "user_tz": -540,
     "elapsed": 4836,
     "user": {
      "displayName": "くすのき.",
      "userId": "13254965509386173093"
     }
    },
    "outputId": "ef3d448c-c9bd-46c6-fa9a-387249eb8e0e"
   },
   "execution_count": 3,
   "outputs": [
    {
     "output_type": "execute_result",
     "data": {
      "text/plain": [
       "CNN(\n",
       "  (features): Sequential(\n",
       "    (0): Conv2d(3, 64, kernel_size=(3, 3), stride=(1, 1), padding=(1, 1))\n",
       "    (1): ReLU(inplace=True)\n",
       "    (2): Conv2d(64, 64, kernel_size=(3, 3), stride=(1, 1), padding=(1, 1))\n",
       "    (3): ReLU(inplace=True)\n",
       "    (4): MaxPool2d(kernel_size=2, stride=2, padding=0, dilation=1, ceil_mode=False)\n",
       "    (5): Conv2d(64, 128, kernel_size=(3, 3), stride=(1, 1), padding=(1, 1))\n",
       "    (6): ReLU(inplace=True)\n",
       "    (7): Conv2d(128, 128, kernel_size=(3, 3), stride=(1, 1), padding=(1, 1))\n",
       "    (8): ReLU(inplace=True)\n",
       "    (9): MaxPool2d(kernel_size=2, stride=2, padding=0, dilation=1, ceil_mode=False)\n",
       "    (10): Conv2d(128, 256, kernel_size=(3, 3), stride=(1, 1), padding=(1, 1))\n",
       "    (11): ReLU(inplace=True)\n",
       "    (12): Conv2d(256, 256, kernel_size=(3, 3), stride=(1, 1), padding=(1, 1))\n",
       "    (13): ReLU(inplace=True)\n",
       "    (14): MaxPool2d(kernel_size=2, stride=2, padding=0, dilation=1, ceil_mode=False)\n",
       "  )\n",
       "  (flatten): Flatten(start_dim=1, end_dim=-1)\n",
       "  (classifier): Linear(in_features=4096, out_features=10, bias=True)\n",
       ")"
      ]
     },
     "metadata": {},
     "execution_count": 3
    }
   ]
  },
  {
   "cell_type": "code",
   "source": [
    "##### 損失関数、オプティマイザ\n",
    "lr = 0.01\n",
    "\n",
    "criterion = nn.CrossEntropyLoss()\n",
    "optimizer = torch.optim.SGD(model.parameters(), lr=lr)"
   ],
   "metadata": {
    "id": "OjLR0R7afB7G",
    "executionInfo": {
     "status": "ok",
     "timestamp": 1675560801651,
     "user_tz": -540,
     "elapsed": 775,
     "user": {
      "displayName": "くすのき.",
      "userId": "13254965509386173093"
     }
    }
   },
   "execution_count": 4,
   "outputs": []
  },
  {
   "cell_type": "code",
   "source": [
    "##### 学習\n",
    "num_epochs = 30\n",
    "train_losses = []\n",
    "train_accs = []\n",
    "test_losses = []\n",
    "test_accs = []\n",
    "\n",
    "for epoch in range(num_epochs):\n",
    "  train_running_loss = 0.0\n",
    "  train_running_acc = 0.0\n",
    "  for imgs, labels in train_dataloader:\n",
    "    imgs = imgs.to(device)\n",
    "    labels = labels.to(device)\n",
    "    optimizer.zero_grad()\n",
    "    output = model(imgs)\n",
    "    loss = criterion(output, labels)\n",
    "    loss.backward()\n",
    "    train_running_loss += loss.item()\n",
    "    pred = torch.argmax(output, dim=1)\n",
    "    train_running_acc += torch.mean(pred.eq(labels).float())\n",
    "    optimizer.step()\n",
    "  train_running_loss /= len(train_dataloader)\n",
    "  train_running_acc /= len(train_dataloader)\n",
    "  train_losses.append(train_running_loss)\n",
    "  train_accs.append(train_running_acc.cpu())\n",
    "\n",
    "  test_running_loss = 0.0\n",
    "  test_running_acc = 0.0\n",
    "  for imgs, labels in test_dataloader:\n",
    "    imgs = imgs.to(device)\n",
    "    labels = labels.to(device)\n",
    "    output = model(imgs)\n",
    "    loss = criterion(output, labels)\n",
    "    test_running_loss += loss.item()\n",
    "    pred = torch.argmax(output, dim=1)\n",
    "    test_running_acc += torch.mean(pred.eq(labels).float())\n",
    "  test_running_loss /= len(test_dataloader)\n",
    "  test_running_acc /= len(test_dataloader)\n",
    "  test_losses.append(test_running_loss)\n",
    "  test_accs.append(test_running_acc.cpu())\n",
    "\n",
    "  print(f\"epoch: {epoch}, train-loss: {train_running_loss}, train-acc: {train_running_acc}, test-loss: {test_running_loss}, test-acc: {test_running_acc}\")"
   ],
   "metadata": {
    "colab": {
     "base_uri": "https://localhost:8080/"
    },
    "id": "RC9hvXkKfDdJ",
    "executionInfo": {
     "status": "ok",
     "timestamp": 1675561512542,
     "user_tz": -540,
     "elapsed": 707071,
     "user": {
      "displayName": "くすのき.",
      "userId": "13254965509386173093"
     }
    },
    "outputId": "06fed672-a96b-454f-c16f-6860ba97b0e8"
   },
   "execution_count": 5,
   "outputs": [
    {
     "output_type": "stream",
     "name": "stdout",
     "text": [
      "epoch: 0, train-loss: 2.288680608274078, train-acc: 0.1358165442943573, test-loss: 2.095537584429732, test-acc: 0.23542331159114838\n",
      "epoch: 1, train-loss: 1.8985290086505815, train-acc: 0.3078814744949341, test-loss: 1.652698942266714, test-acc: 0.3998602032661438\n",
      "epoch: 2, train-loss: 1.5710135136974674, train-acc: 0.42692339420318604, test-loss: 1.4208869720800235, test-acc: 0.4847244322299957\n",
      "epoch: 3, train-loss: 1.3782257128814361, train-acc: 0.5069977641105652, test-loss: 1.3316647351359407, test-acc: 0.5180710554122925\n",
      "epoch: 4, train-loss: 1.2157492520560536, train-acc: 0.5690978765487671, test-loss: 1.1202490666803842, test-acc: 0.6022363901138306\n",
      "epoch: 5, train-loss: 1.073461889076599, train-acc: 0.6231805682182312, test-loss: 1.1838323830034787, test-acc: 0.5794728398323059\n",
      "epoch: 6, train-loss: 0.9596686849819874, train-acc: 0.6629078984260559, test-loss: 0.9708836204327714, test-acc: 0.6643370389938354\n",
      "epoch: 7, train-loss: 0.8563779411373883, train-acc: 0.7012355923652649, test-loss: 0.9373595624114759, test-acc: 0.673622190952301\n",
      "epoch: 8, train-loss: 0.766563308349574, train-acc: 0.7323656678199768, test-loss: 0.9296300261736677, test-acc: 0.684105396270752\n",
      "epoch: 9, train-loss: 0.6935248478856212, train-acc: 0.7595569491386414, test-loss: 0.7751310450105241, test-acc: 0.7301318049430847\n",
      "epoch: 10, train-loss: 0.6251127587646838, train-acc: 0.7849488258361816, test-loss: 0.7352521494745066, test-acc: 0.7496006488800049\n",
      "epoch: 11, train-loss: 0.5651548504924744, train-acc: 0.8044025897979736, test-loss: 0.8456118053521592, test-acc: 0.7167531847953796\n",
      "epoch: 12, train-loss: 0.5067272133748651, train-acc: 0.8247560858726501, test-loss: 0.7480296360703703, test-acc: 0.7514975666999817\n",
      "epoch: 13, train-loss: 0.4497430802526111, train-acc: 0.8450295925140381, test-loss: 0.7153591330344684, test-acc: 0.7646765112876892\n",
      "epoch: 14, train-loss: 0.3959017546271866, train-acc: 0.8631637692451477, test-loss: 0.792356619867273, test-acc: 0.7464057207107544\n",
      "epoch: 15, train-loss: 0.34406424467514435, train-acc: 0.8791986703872681, test-loss: 0.8355915873481062, test-acc: 0.7475039958953857\n",
      "epoch: 16, train-loss: 0.28800430006549593, train-acc: 0.8999320268630981, test-loss: 0.8165636948122384, test-acc: 0.7591853141784668\n",
      "epoch: 17, train-loss: 0.24012357897708528, train-acc: 0.9173864126205444, test-loss: 0.8599019130578818, test-acc: 0.752595841884613\n",
      "epoch: 18, train-loss: 0.1969599327333486, train-acc: 0.9318018555641174, test-loss: 0.9161225955088299, test-acc: 0.7687699794769287\n",
      "epoch: 19, train-loss: 0.15770380365675982, train-acc: 0.9452775120735168, test-loss: 1.0181985269910612, test-acc: 0.7563897371292114\n",
      "epoch: 20, train-loss: 0.12824919218404823, train-acc: 0.9547544717788696, test-loss: 1.013186623208439, test-acc: 0.7649760246276855\n",
      "epoch: 21, train-loss: 0.10270946836310557, train-acc: 0.9639115333557129, test-loss: 1.1500092229713648, test-acc: 0.7560902237892151\n",
      "epoch: 22, train-loss: 0.09167170618861552, train-acc: 0.967230498790741, test-loss: 1.2074728576234355, test-acc: 0.7560902237892151\n",
      "epoch: 23, train-loss: 0.07470958818495631, train-acc: 0.9741882681846619, test-loss: 1.196191399289777, test-acc: 0.7678713798522949\n",
      "epoch: 24, train-loss: 0.05835545304441869, train-acc: 0.9802463054656982, test-loss: 1.2639256926675955, test-acc: 0.7707667350769043\n",
      "epoch: 25, train-loss: 0.05506802838545511, train-acc: 0.9807461500167847, test-loss: 1.571615320425064, test-acc: 0.7494009733200073\n",
      "epoch: 26, train-loss: 0.04926524233706912, train-acc: 0.9829254746437073, test-loss: 1.4216365173411445, test-acc: 0.7688698172569275\n",
      "epoch: 27, train-loss: 0.0426116141646948, train-acc: 0.9863044023513794, test-loss: 1.4278836911573958, test-acc: 0.7632787227630615\n",
      "epoch: 28, train-loss: 0.033978455170441374, train-acc: 0.988843560218811, test-loss: 1.519202297440352, test-acc: 0.7661741375923157\n",
      "epoch: 29, train-loss: 0.029570681850242076, train-acc: 0.9900631904602051, test-loss: 1.51753654357153, test-acc: 0.7729632258415222\n"
     ]
    }
   ]
  },
  {
   "cell_type": "code",
   "source": [
    "##### 評価: loss\n",
    "plt.style.use(\"ggplot\")\n",
    "plt.plot(train_losses, label=\"train loss\")\n",
    "plt.plot(test_losses, label=\"test loss\")\n",
    "plt.legend()"
   ],
   "metadata": {
    "colab": {
     "base_uri": "https://localhost:8080/",
     "height": 282
    },
    "id": "ijY9xSclfFxP",
    "executionInfo": {
     "status": "ok",
     "timestamp": 1675561519074,
     "user_tz": -540,
     "elapsed": 463,
     "user": {
      "displayName": "くすのき.",
      "userId": "13254965509386173093"
     }
    },
    "outputId": "507acb5c-2971-4855-eb57-7d7dd0489a39"
   },
   "execution_count": 6,
   "outputs": [
    {
     "output_type": "execute_result",
     "data": {
      "text/plain": [
       "<matplotlib.legend.Legend at 0x7f6dc4665520>"
      ]
     },
     "metadata": {},
     "execution_count": 6
    },
    {
     "output_type": "display_data",
     "data": {
      "text/plain": [
       "<Figure size 432x288 with 1 Axes>"
      ],
      "image/png": "[encoded data removed]"
     },
     "metadata": {}
    }
   ]
  },
  {
   "cell_type": "code",
   "source": [
    "##### 評価: accs\n",
    "plt.plot(train_accs, label=\"train acc\")\n",
    "plt.plot(test_accs, label=\"test acc\")\n",
    "plt.legend()"
   ],
   "metadata": {
    "colab": {
     "base_uri": "https://localhost:8080/",
     "height": 282
    },
    "id": "-QZEwDPHfJgQ",
    "executionInfo": {
     "status": "ok",
     "timestamp": 1675561532723,
     "user_tz": -540,
     "elapsed": 862,
     "user": {
      "displayName": "くすのき.",
      "userId": "13254965509386173093"
     }
    },
    "outputId": "23d14143-19a4-4fbe-ef64-77e0d6ac4a26"
   },
   "execution_count": 7,
   "outputs": [
    {
     "output_type": "execute_result",
     "data": {
      "text/plain": [
       "<matplotlib.legend.Legend at 0x7f6dc460c820>"
      ]
     },
     "metadata": {},
     "execution_count": 7
    },
    {
     "output_type": "display_data",
     "data": {
      "text/plain": [
       "<Figure size 432x288 with 1 Axes>"
      ],
      "image/png": "[encoded data removed]"
     },
     "metadata": {}
    }
   ]
  },
  {
   "cell_type": "code",
   "source": [],
   "metadata": {
    "id": "XCFzN3ypk_6H"
   },
   "execution_count": null,
   "outputs": []
  }
 ]
}
